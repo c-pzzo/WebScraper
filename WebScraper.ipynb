{
 "cells": [
  {
   "cell_type": "markdown",
   "id": "8a3e6cd6",
   "metadata": {},
   "source": [
    "# Libraries"
   ]
  },
  {
   "cell_type": "code",
   "execution_count": 1,
   "id": "abadef68",
   "metadata": {},
   "outputs": [],
   "source": [
    "import requests\n",
    "from bs4 import BeautifulSoup"
   ]
  },
  {
   "cell_type": "code",
   "execution_count": 2,
   "id": "fe611d2a",
   "metadata": {},
   "outputs": [
    {
     "name": "stdout",
     "output_type": "stream",
     "text": [
      "\n",
      "The openai.ChatCompletion.create() function is used to generate a response to a sequence of messages in the context of a conversation. Here are the parameters of the function:\n",
      "\n",
      "* model: The ID of the GPT model to use for generating the response. This can be a string representing the name of the model, or an instance of the openai.Model class.\n",
      "* prompt: An optional string containing the initial prompt to start the conversation. This can be used to set the context for the conversation.\n",
      "* temperature: A float specifying the \"creativity\" of the generated responses. Higher values result in more diverse and unexpected responses.\n",
      "* max_tokens: An integer specifying the maximum number of tokens (words and punctuation) that the generated response should contain.\n",
      "* n: An integer specifying the number of responses to generate. The API will return the top n results.\n",
      "* stop: An optional string or list of strings specifying the stopping criteria for the generated response. When the generated text contains any of the specified strings, the response is considered complete and the generation process stops.\n",
      "* messages: A list of dictionaries representing the conversation history. Each dictionary should have two keys: \"role\" (a string representing the role of the message sender) and \"content\" (a string representing the text of the message).\n",
      "\n"
     ]
    }
   ],
   "source": [
    "%run ../../../OpenAI_API.ipynb"
   ]
  },
  {
   "cell_type": "markdown",
   "id": "0a501a6f",
   "metadata": {},
   "source": [
    "# Static parameters\n",
    "These parameters are hand-made and relevant only for the Climatebase.org website. It is assumed that a major redesign labor would be required to adapt the code for another website."
   ]
  },
  {
   "cell_type": "code",
   "execution_count": 3,
   "id": "548f2999",
   "metadata": {},
   "outputs": [],
   "source": [
    "#https://climatebase.org/jobs?l=&q=&p=0&remote=false\n",
    "domain_name = \"https://climatebase.org\"\n",
    "url_path = \"/jobs?l=&q=&p=0&remote=false\"\n",
    "\n",
    "# Job types\n",
    "#https://climatebase.org/jobs?l=&q=&job_types=Full+time+role&p=0&remote=false\n",
    "d_job_types  = {0:\"\", 1:\"Full+time+role\", 2:\"Internship\"}\n",
    "\n",
    "# Role type\n",
    "#https://climatebase.org/jobs?l=&q=&categories=Data+Analyst&p=0&remote=false\n",
    "d_categories = {0:\"\", 1:\"Data+Analyst\", 2:\"Data+Scientist\", 3:\"Research\"}\n",
    "\n",
    "# Remote\n",
    "#https://climatebase.org/jobs?l=Remote&q=&p=0&remote=true\n",
    "d_remote = {0:\"\", 1:\"true\", 2:\"false\"}\n",
    "\n",
    "css_object_class = \"list_card\""
   ]
  },
  {
   "cell_type": "markdown",
   "id": "eb383015",
   "metadata": {},
   "source": [
    "# User-Defined Functions"
   ]
  },
  {
   "cell_type": "code",
   "execution_count": 4,
   "id": "0ded7d10",
   "metadata": {},
   "outputs": [],
   "source": [
    "def insert_filter(input_text, to_insert):\n",
    "    \"\"\"\n",
    "    This function formats the url structure to make a filtered query.\n",
    "    \"\"\"\n",
    "    # Find the index where \"&p=\" starts\n",
    "    index = input_text.find(\"&p=\")\n",
    "\n",
    "    # Insert the text to the left of \"&p=\"\n",
    "    new_string = input_text[:index] + to_insert + input_text[index:]\n",
    "    \n",
    "    return new_string"
   ]
  },
  {
   "cell_type": "code",
   "execution_count": 5,
   "id": "d59b0f39",
   "metadata": {},
   "outputs": [],
   "source": [
    "def define_remote(input_text):\n",
    "    \"\"\"\n",
    "    This function is similar to insert_filter(), but is specific for the \"remote\" filtering.\n",
    "    \"\"\"\n",
    "    \n",
    "    new_string = input_text.replace(\"?l=\", \"?l=Remote\")\n",
    "    new_string = input_text.replace(\"&remote=false\", \"&remote=true\")\n",
    "\n",
    "    return new_string"
   ]
  },
  {
   "cell_type": "code",
   "execution_count": 6,
   "id": "c2d723b6",
   "metadata": {},
   "outputs": [],
   "source": [
    "def scraping_css_object(url_path, css_object_class):\n",
    "    \"\"\"\n",
    "    Given a CSS object class, this scraper will obtain the relevant information from the website.\n",
    "    \"\"\"\n",
    "    \n",
    "    url = domain_name + url_path\n",
    "    #\"https://climatebase.org/jobs?l=&q=&categories=Data+Scientist&p=0&remote=true\"\n",
    "\n",
    "    response = requests.get(url)\n",
    "    soup = BeautifulSoup(response.content, \"html.parser\")\n",
    "\n",
    "    # Find all elements with class=\"list_card\"\n",
    "    found_objects = soup.find_all(class_=css_object_class)\n",
    "\n",
    "    return found_objects"
   ]
  },
  {
   "cell_type": "markdown",
   "id": "bff7afdc",
   "metadata": {},
   "source": [
    "# User-defined parameters"
   ]
  },
  {
   "cell_type": "code",
   "execution_count": 7,
   "id": "d7dd2d9b",
   "metadata": {},
   "outputs": [
    {
     "name": "stdout",
     "output_type": "stream",
     "text": [
      "Job type: Fulltimerole\n",
      "Category: DataAnalyst\n",
      "Remote: true\n"
     ]
    }
   ],
   "source": [
    "# These parameters are the filtering criteria for the website.\n",
    "\n",
    "job_types = d_job_types[1]\n",
    "print(\"Job type: \" + job_types.replace(\"+\", \"\"))\n",
    "\n",
    "categories = d_categories[1]\n",
    "print(\"Category: \" + categories.replace(\"+\", \"\"))\n",
    "\n",
    "remote = d_remote[1]\n",
    "print(\"Remote: \" + remote)\n"
   ]
  },
  {
   "cell_type": "markdown",
   "id": "ecf021b0",
   "metadata": {},
   "source": [
    "# Variables"
   ]
  },
  {
   "cell_type": "code",
   "execution_count": 8,
   "id": "c77a1c9e",
   "metadata": {},
   "outputs": [],
   "source": [
    "# Formatting variables for filtering criteria on the website.\n",
    "\n",
    "if job_types != \"\":\n",
    "    url_path = insert_filter(url_path, \"&job_types=\" + job_types)\n",
    "    \n",
    "if categories != \"\":\n",
    "    url_path = insert_filter(url_path, \"&categories=\" + categories)\n",
    "\n",
    "if remote != \"\":    \n",
    "    url_path = define_remote(url_path)"
   ]
  },
  {
   "cell_type": "markdown",
   "id": "fc86a4cb",
   "metadata": {},
   "source": [
    "# Mining"
   ]
  },
  {
   "cell_type": "markdown",
   "id": "a19b940a",
   "metadata": {},
   "source": [
    "## > Mining url's\n",
    "Mining url's from main site by filtered criteria. "
   ]
  },
  {
   "cell_type": "code",
   "execution_count": 9,
   "id": "e2289b75",
   "metadata": {},
   "outputs": [],
   "source": [
    "# After applying the filtering criteria, s\n",
    "scraped_url_paths = [element['href'] for element in scraping_css_object(url_path, css_object_class)]\n",
    "#scraped_url_paths\n",
    "\n",
    "# Visualization of the complete url\n",
    "#domain_name + scraped_url_paths[0]"
   ]
  },
  {
   "cell_type": "markdown",
   "id": "f5e57628",
   "metadata": {},
   "source": [
    "## > Mining information\n",
    "Title and job description are obtained from one url."
   ]
  },
  {
   "cell_type": "code",
   "execution_count": 11,
   "id": "0047e363",
   "metadata": {},
   "outputs": [],
   "source": [
    "current_path = scraped_url_paths[0]"
   ]
  },
  {
   "cell_type": "code",
   "execution_count": 12,
   "id": "cf79d493",
   "metadata": {},
   "outputs": [
    {
     "name": "stdout",
     "output_type": "stream",
     "text": [
      "Mid/Senior Product Designer\n"
     ]
    }
   ],
   "source": [
    "# Mining job title\n",
    "html_title = scraping_css_object(current_path, \"fcPVcr\")\n",
    "\n",
    "soup = BeautifulSoup(str(html_title), 'html.parser')\n",
    "title = soup.find('h1', {'class': 'PageLayout__Title-sc-1ri9r3s-4 fcPVcr'}).text\n",
    "\n",
    "print(title)"
   ]
  },
  {
   "cell_type": "code",
   "execution_count": 13,
   "id": "93b05128",
   "metadata": {},
   "outputs": [
    {
     "name": "stdout",
     "output_type": "stream",
     "text": [
      "Do you want to design part of the clean energy grid of the future?\n",
      "Granular is a fast-growing climate tech startup developing a platform to help electricity consumers, producers and suppliers move towards 24/7 clean energy. Our SaaS platform gives our clients visibility over how electricity was produced on each hour using hourly energy certificates and allow them to trade clean energy with each other. You can find out more about the 24/7 energy space in this article.\n",
      "We are active across Europe and the US and have partnered with Europe’s leading power exchange and grid operators, among others. Our seed round was led by some of the world’s top early-stage VCs, and we are currently preparing for our next funding round.\n",
      "What will I be doing\n",
      "We are looking for a Senior Product Designer to join our growing tech team. You will actively participate in the product development and delivery.\n",
      "In a typical day you will\n",
      "\n",
      "Have a meaningful impact on the decarbonisation of the grid\n",
      "Work alongside our existing designer to design and refine the UI/UX of the Granular web platform\n",
      "Contribute to the design system and maintain design consistency across features\n",
      "Work closely with a product manager and frontend developers\n",
      "Lead user research, testing, and validation of new designs\n",
      "Contribute to ideation along with the founders and the rest of the technology and product team\n",
      "Support with occasional brand work (e.g. the marketing site, printed collateral, and decks)\n",
      "\n",
      "There are a couple of base requirements\n",
      "\n",
      "You're kind and know how to get along with a team of motivated people\n",
      "You're excited about working on the climate crisis and comfortable with a steep learning curve\n",
      "4+ years of designing user-centric products – anything that is data-heavy or relating to energy is a big plus\n",
      "You know Figma and its component and prototyping system back-to-front\n",
      "Highly organised, both in your design files and with your time\n",
      "You're a great communicator with fluency in English (we're an international team, but we operate in English)\n",
      "Experience in startup and/or remote environments is a plus\n",
      "We are committed to diversity and developing talent. If you do not have all the skills listed above but think you have what we’re looking for, we’d still love to hear from you.\n",
      "\n",
      "Benefits\n",
      "\n",
      "Holidays: min of 30 days\n",
      "Employee Share Options: you’ll receive more information during the recruitment process. All employees receive share options in line with market standards\n",
      "\n",
      "Salary\n",
      "\n",
      "France: €54k (Intermediate) or €63.4k (Senior)\n",
      "UK: £60k (Intermediate) or £77k (Senior)\n",
      "Germany: €60k (Intermediate) or €77k (Senior)\n",
      "Spain: €47.4k (Intermediate) or €55.6k (Senior)\n",
      "\n",
      "We are offering salaries calculated as the 65th percentile of market data provided by Figures, and depending on your seniority and location. For this role the salaries are displayed below.\n",
      "LocationGranular is a remote-first organisation. We're currently spread across multiple cities in FR, UK, NL and CH. However, although we are remote we currently have quarterly meet-ups in Western Europe (typically around Paris).Because of this, we are not currently able to accept applicants based outside Western Europe.\n"
     ]
    }
   ],
   "source": [
    "# Mining job description\n",
    "html_bodytext = scraping_css_object(current_path, \"EPUZp\")\n",
    "\n",
    "soup = BeautifulSoup(str(html_bodytext), 'html.parser')\n",
    "bodytext = soup.div.text.strip()\n",
    "\n",
    "print(bodytext)"
   ]
  },
  {
   "cell_type": "code",
   "execution_count": 19,
   "id": "b70ef373",
   "metadata": {
    "scrolled": true
   },
   "outputs": [],
   "source": [
    "text_prompt = \"\"\"I will prompt you with a job description and I want your help to categorize it, but before I will set some rules. \n",
    "\n",
    "1. Please categorize the job description by the following criteria (if the information is available): \n",
    "* Job title\n",
    "* Company mission\n",
    "* Company values \n",
    "* Company products or services\n",
    "* Job responsibilities\n",
    "* Desired software skills\n",
    "* Education\n",
    "* Required Job Experience\n",
    "* Equal Employment Opportunity\n",
    "* Salary\n",
    "* Benefits\n",
    "* Location\n",
    "* Type of employment\n",
    "\n",
    "Please provide your answers in a JSON object format, where the key name is the same as the categories but with spaces replaced by underscores (if necessary).\n",
    "If any category has no available information, please include a \"null\" value for the corresponding key in the JSON object.\n",
    "4. Make the categorizations as concise as possible, maybe even as keywords. Be as economic as possible.\n",
    "5. Avoid paragraphs of text or long sentences. \n",
    "6. Avoid redundant text.\n",
    "\n",
    "Those would be the rules. Now I will prompt you with the text for the job description: \n",
    "\"\"\" + \"Job title: \" + title + \".\"+ bodytext\n",
    "\n",
    "reply = call_openai_api(text_prompt, tokens = 1000)"
   ]
  },
  {
   "cell_type": "code",
   "execution_count": 20,
   "id": "45af8c85",
   "metadata": {},
   "outputs": [],
   "source": [
    "reply_back = reply\n"
   ]
  },
  {
   "cell_type": "code",
   "execution_count": 21,
   "id": "04eb86be",
   "metadata": {},
   "outputs": [],
   "source": [
    "reply = reply.replace(\"\\n\", \"\") \n",
    "reply = reply.replace(\"'\", \"\\\"\")"
   ]
  },
  {
   "cell_type": "code",
   "execution_count": 22,
   "id": "81535c79",
   "metadata": {},
   "outputs": [
    {
     "data": {
      "text/plain": [
       "{'Job_title': 'Mid/Senior Product Designer',\n",
       " 'Company_mission': 'Developing a platform to help electricity consumers, producers and suppliers move towards 24/7 clean energy',\n",
       " 'Company_values': None,\n",
       " 'Company_products_or_services': 'SaaS platform for trading clean energy',\n",
       " 'Job_responsibilities': ['Design and refine the UI/UX of the Granular web platform',\n",
       "  'Contribute to the design system and maintain design consistency across features',\n",
       "  'Lead user research, testing, and validation of new designs',\n",
       "  'Contribute to ideation along with the founders and the rest of the technology and product team',\n",
       "  'Support with occasional brand work'],\n",
       " 'Desired_software_skills': ['Figma', 'Prototyping'],\n",
       " 'Education': None,\n",
       " 'Required_Job_Experience': '4+ years of designing user-centric products – anything that is data-heavy or relating to energy is a big plus',\n",
       " 'Equal_Employment_Opportunity': 'We are committed to diversity and developing talent. If you do not have all the skills listed above but think you have what we’re looking for, we’d still love to hear from you.',\n",
       " 'Salary': {'France': '€54k (Intermediate) or €63.4k (Senior)',\n",
       "  'UK': '£60k (Intermediate) or £77k (Senior)',\n",
       "  'Germany': '€60k (Intermediate) or €77k (Senior)',\n",
       "  'Spain': '€47.4k (Intermediate) or €55.6k (Senior)'},\n",
       " 'Benefits': ['Min of 30 days holidays', 'Employee Share Options'],\n",
       " 'Location': {'Remote': True,\n",
       "  'Quarterly_meet-ups': 'Western Europe',\n",
       "  'Not_accepting_applicants_outside_Western_Europe': True},\n",
       " 'Type_of_employment': None}"
      ]
     },
     "execution_count": 22,
     "metadata": {},
     "output_type": "execute_result"
    }
   ],
   "source": [
    "dict_obj = json.loads(reply)\n",
    "dict_obj\n"
   ]
  },
  {
   "cell_type": "code",
   "execution_count": 18,
   "id": "a6bcb03d",
   "metadata": {},
   "outputs": [
    {
     "data": {
      "text/plain": [
       "'{\\n  \"Job_title\": \"Mid/Senior Product Designer\",\\n  \"Company_mission\": \"Developing a platform to help electricity consumers, producers and suppliers move towards 24/7 clean energy.\",\\n  \"Company_products_or_services\": \"SaaS platform that gives clients visibility over how electricity was produced on each hour using hourly energy certificates and allows them to trade clean energy with each other.\",\\n  \"Job_responsibilities\": \"Design and refine the UI/UX of the Granular web platform, contribute to the design system and maintain design consistency across features, lead user research, testing, and validation of new designs, contribute to ideation along with the founders and the rest of the technology and product team, support with occasional brand work.\",\\n  \"Desired_software_skills\": \"Figma, its component and prototyping system.\",\\n  \"Education\": \"null\",\\n  \"Required_job_experience\": \"4+ years of designing user-centric products – anything that is data-heavy or relating to energy is a big plus\",\\n  \"Equal_Employment_Opportunity\": \"Committed to diversity and developing talent.\",\\n  \"Salary\": \"France: €54k (Intermediate) or €63.4k (Senior), UK: £60k (Intermediate) or £77k (Senior), Germany: €60k (Intermediate) or €77k (Senior), Spain: €47.4k (Intermediate) or €55.6k (Senior)\",\\n  \"Benefits\": \"Holidays: min of 30 days, Employee Share Options: you’ll receive more information during the recruitment process. All employees receive share options in line with market standards.\"\\n}'"
      ]
     },
     "execution_count": 18,
     "metadata": {},
     "output_type": "execute_result"
    }
   ],
   "source": [
    "reply_back"
   ]
  }
 ],
 "metadata": {
  "kernelspec": {
   "display_name": "Python 3 (ipykernel)",
   "language": "python",
   "name": "python3"
  },
  "language_info": {
   "codemirror_mode": {
    "name": "ipython",
    "version": 3
   },
   "file_extension": ".py",
   "mimetype": "text/x-python",
   "name": "python",
   "nbconvert_exporter": "python",
   "pygments_lexer": "ipython3",
   "version": "3.10.9"
  }
 },
 "nbformat": 4,
 "nbformat_minor": 5
}
