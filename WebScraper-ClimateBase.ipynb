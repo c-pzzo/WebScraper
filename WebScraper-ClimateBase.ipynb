{
 "cells": [
  {
   "cell_type": "markdown",
   "id": "8a3e6cd6",
   "metadata": {},
   "source": [
    "# Libraries"
   ]
  },
  {
   "cell_type": "code",
   "execution_count": 2,
   "id": "abadef68",
   "metadata": {},
   "outputs": [],
   "source": [
    "import requests\n",
    "from bs4 import BeautifulSoup"
   ]
  },
  {
   "cell_type": "code",
   "execution_count": 3,
   "id": "2cd5f02d",
   "metadata": {},
   "outputs": [],
   "source": [
    "import json\n",
    "import pandas as pd\n",
    "from datetime import datetime\n",
    "from json2html import json2html"
   ]
  },
  {
   "cell_type": "code",
   "execution_count": 4,
   "id": "fe611d2a",
   "metadata": {},
   "outputs": [
    {
     "data": {
      "text/markdown": [
       "\n",
       "The `openai.ChatCompletion.create()` function generates a response to a sequence of messages in the context of a conversation. \n",
       "The following are the parameters of the function:\n"
      ],
      "text/plain": [
       "<IPython.core.display.Markdown object>"
      ]
     },
     "metadata": {},
     "output_type": "display_data"
    },
    {
     "data": {
      "text/html": [
       "\n",
       "<div style=\"display: flex; justify-content: center;\">\n",
       "    <style>\n",
       "      table {\n",
       "        width: 50%;\n",
       "        border-collapse: collapse;\n",
       "      }\n",
       "      th, td {\n",
       "        padding: 8px;\n",
       "        border-bottom: 1px solid #ddd;\n",
       "      }\n",
       "      th:nth-child(2), td:nth-child(2) {\n",
       "        width: 400px; /* Set the desired width for the second column */\n",
       "      }\n",
       "    </style>\n",
       "\n",
       "    <table>\n",
       "      <tr>\n",
       "        <th>Parameter</th>\n",
       "        <th>Description</th>\n",
       "      </tr>\n",
       "      <tr>\n",
       "        <td>model</td>\n",
       "        <td>The engine that the API will connect to generate the response.</td>\n",
       "      </tr>\n",
       "      <tr>\n",
       "        <td>text_prompt</td>\n",
       "        <td>Input text for ChatGPT.</td>\n",
       "      </tr>\n",
       "      <tr>\n",
       "        <td>temperature</td>\n",
       "        <td>Float value ∈ [0, 1]. Controls the creativity (i.e. randomness) of the generated text. A higher value means a more creative and unexpected response, and vice versa.</td>\n",
       "      </tr>\n",
       "      <tr>\n",
       "        <td>max_tokens</td>\n",
       "        <td>Maximum number of tokens (i.e. words or phrases) for the generated text.</td>\n",
       "      </tr>\n",
       "      <tr>\n",
       "        <td>n</td>\n",
       "        <td>An integer specifying the number of top responses to return.</td>\n",
       "      </tr>\n",
       "      <tr>\n",
       "        <td>stop</td>\n",
       "        <td>An optional string or list of strings specifying the stopping criteria for the generated response. When the generated text contains any of the specified strings, the response is considered complete and the generation process stops.</td>\n",
       "      </tr>\n",
       "    </table>\n",
       "</div>    \n"
      ],
      "text/plain": [
       "<IPython.core.display.HTML object>"
      ]
     },
     "metadata": {},
     "output_type": "display_data"
    }
   ],
   "source": [
    "%run ../../../OpenAI_API.ipynb"
   ]
  },
  {
   "cell_type": "markdown",
   "id": "1a2a0c8c",
   "metadata": {},
   "source": [
    "[Check for OpenAI credit usage here ($)](https://platform.openai.com/account/usage)"
   ]
  },
  {
   "cell_type": "markdown",
   "id": "0a501a6f",
   "metadata": {},
   "source": [
    "# Static parameters\n",
    "These parameters are used to filter criteria for the [ClimateBase.org Jobs](https://climatebase.org/jobs?l=&q=&p=0&remote=false) website."
   ]
  },
  {
   "cell_type": "code",
   "execution_count": null,
   "id": "548f2999",
   "metadata": {},
   "outputs": [],
   "source": [
    "#https://climatebase.org/jobs?l=&q=&p=0&remote=false\n",
    "domain_name = \"https://climatebase.org\"\n",
    "url_path = \"/jobs?l=&q=&p=0&remote=false\"\n",
    "\n",
    "# Job types\n",
    "#https://climatebase.org/jobs?l=&q=&job_types=Full+time+role&p=0&remote=false\n",
    "d_job_types  = {0:\"\", 1:\"Full+time+role\", 2:\"Internship\"}\n",
    "\n",
    "# Role type\n",
    "#https://climatebase.org/jobs?l=&q=&categories=Data+Analyst&p=0&remote=false\n",
    "d_categories = {0:\"\", 1:\"Data+Analyst\", 2:\"Data+Scientist\", 3:\"Research\"}\n",
    "\n",
    "# Remote\n",
    "#https://climatebase.org/jobs?l=Remote&q=&p=0&remote=true\n",
    "d_remote = {0:\"\", 1:\"true\", 2:\"false\"}\n",
    "\n",
    "css_object_class = \"list_card\""
   ]
  },
  {
   "cell_type": "markdown",
   "id": "bff7afdc",
   "metadata": {},
   "source": [
    "# User-defined parameters\n",
    "These parameters are the filtering criteria for the website."
   ]
  },
  {
   "cell_type": "code",
   "execution_count": null,
   "id": "d7dd2d9b",
   "metadata": {},
   "outputs": [],
   "source": [
    "job_types = d_job_types[1]\n",
    "print(\"Job type: \" + job_types.replace(\"+\", \"\"))\n",
    "\n",
    "categories = d_categories[2]\n",
    "print(\"Category: \" + categories.replace(\"+\", \"\"))\n",
    "\n",
    "remote = d_remote[1]\n",
    "print(\"Remote: \" + remote)\n"
   ]
  },
  {
   "cell_type": "markdown",
   "id": "eb383015",
   "metadata": {},
   "source": [
    "# User-Defined Functions"
   ]
  },
  {
   "cell_type": "code",
   "execution_count": null,
   "id": "0ded7d10",
   "metadata": {},
   "outputs": [],
   "source": [
    "def insert_filter(input_text, to_insert):\n",
    "    \"\"\"\n",
    "    This function formats the url structure to make a filtered query.\n",
    "    \"\"\"\n",
    "    # Find the index where \"&p=\" starts\n",
    "    index = input_text.find(\"&p=\")\n",
    "\n",
    "    # Insert the text to the left of \"&p=\"\n",
    "    new_string = input_text[:index] + to_insert + input_text[index:]\n",
    "    \n",
    "    return new_string"
   ]
  },
  {
   "cell_type": "code",
   "execution_count": null,
   "id": "d59b0f39",
   "metadata": {},
   "outputs": [],
   "source": [
    "def define_remote(input_text):\n",
    "    \"\"\"\n",
    "    This function is similar to insert_filter(), but is specific for the \"remote\" filtering.\n",
    "    \"\"\"\n",
    "    \n",
    "    new_string = input_text.replace(\"?l=\", \"?l=Remote\")\n",
    "    new_string = input_text.replace(\"&remote=false\", \"&remote=true\")\n",
    "\n",
    "    return new_string"
   ]
  },
  {
   "cell_type": "code",
   "execution_count": null,
   "id": "c2d723b6",
   "metadata": {},
   "outputs": [],
   "source": [
    "def scraping_css_object(url_path, css_object_class):\n",
    "    \"\"\"\n",
    "    Given a CSS object class, this scraper will obtain the relevant information from the website.\n",
    "    \"\"\"\n",
    "    \n",
    "    url = domain_name + url_path\n",
    "    #\"https://climatebase.org/jobs?l=&q=&categories=Data+Scientist&p=0&remote=true\"\n",
    "\n",
    "    response = requests.get(url)\n",
    "    soup = BeautifulSoup(response.content, \"html.parser\")\n",
    "\n",
    "    # Find all elements with class=\"list_card\"\n",
    "    found_objects = soup.find_all(class_=css_object_class)\n",
    "\n",
    "    return found_objects"
   ]
  },
  {
   "cell_type": "code",
   "execution_count": null,
   "id": "decb6300",
   "metadata": {},
   "outputs": [],
   "source": [
    "def scrape_title(current_path):\n",
    "    \"\"\"\n",
    "    This function will obtain the job title from a predefined CSS object specific to \n",
    "    the ClimateBase.org website.\n",
    "    \"\"\"\n",
    "    \n",
    "    html_title = scraping_css_object(current_path, \"fcPVcr\")\n",
    "    soup = BeautifulSoup(str(html_title), 'html.parser')\n",
    "    title = soup.find('h1', {'class': 'PageLayout__Title-sc-1ri9r3s-4 fcPVcr'}).text\n",
    "    \n",
    "    return title"
   ]
  },
  {
   "cell_type": "code",
   "execution_count": null,
   "id": "93b05128",
   "metadata": {},
   "outputs": [],
   "source": [
    "def scrape_job_description(current_path):\n",
    "    \"\"\"\n",
    "    This function will obtain the job description from a predefined CSS object specific to\n",
    "    the ClimateBase.org website.\n",
    "    \"\"\"\n",
    "    \n",
    "    # Mining job description\n",
    "    html_bodytext = scraping_css_object(current_path, \"EPUZp\")\n",
    "    soup = BeautifulSoup(str(html_bodytext), 'html.parser')\n",
    "    bodytext = soup.div.text.strip()\n",
    "\n",
    "    return bodytext"
   ]
  },
  {
   "cell_type": "code",
   "execution_count": null,
   "id": "025141a9",
   "metadata": {},
   "outputs": [],
   "source": [
    "def chatgpt_prompt(title, bodytext):\n",
    "    \"\"\"\n",
    "    This function contains the prompt with the set of rules that are to be sent to ChatGPT to process a text.\n",
    "    \"\"\"    \n",
    "    \n",
    "    categories = \"\"\"\n",
    "    * Job title\n",
    "    * Company mission\n",
    "    * Company values \n",
    "    * Company products or services\n",
    "    * Job responsibilities\n",
    "    * Desired software skills\n",
    "    * Education\n",
    "    * Required Job Experience\n",
    "    * Equal Employment Opportunity\n",
    "    * Salary\n",
    "    * Benefits\n",
    "    * Location\n",
    "    * Type of employment\n",
    "    * URL\n",
    "    \"\"\"\n",
    "    json_keys = [category.strip('* ').lower().replace(' ', '_') for category in categories.strip().splitlines()]\n",
    "\n",
    "    text_prompt = f\"\"\"I will prompt you with a job description contained within ```, and I want your help to extract and categorize its information. Before we begin, please follow these rules: \n",
    "\n",
    "    1. Replace any double quotes in the text with single quotes.\n",
    "    2. Extract and categorize the information from the job description for the following categories:{categories}\n",
    "    3. Please provide your answers in a JSON object format. The keys will be the same as the categories but in lower case and with spaces replaced by underscores. These are respectively and in order: {json_keys}.\n",
    "    4. Use a consistent structure for all data entries. Never create nested values. Separate them with a delimiter such as \";\" instead.\n",
    "    5. If any category has no available information, please include a \"null\" value for the corresponding key in the JSON object. \n",
    "    6. Make the categorizations as concise as possible, maybe even as keywords. Be as economic as possible.\n",
    "    7. Avoid paragraphs of text or long sentences. \n",
    "    8. Avoid redundant text.\n",
    "\n",
    "    Please keep these rules in mind when categorizing the job description. Let's begin!: \n",
    "    \"\"\" + \"```Job title: \" + title + \".\\n\\n \"+ bodytext + \" URL: \" + domain_name + current_path + \" \\n```\"\n",
    "    \n",
    "    return text_prompt\n",
    "\n",
    "#display(Markdown(chatgpt_prompt(title, bodytext)))"
   ]
  },
  {
   "cell_type": "markdown",
   "id": "ecf021b0",
   "metadata": {},
   "source": [
    "# Variables"
   ]
  },
  {
   "cell_type": "code",
   "execution_count": null,
   "id": "c77a1c9e",
   "metadata": {},
   "outputs": [],
   "source": [
    "# Formatting variables for filtering criteria on the website.\n",
    "\n",
    "if job_types != \"\":\n",
    "    url_path = insert_filter(url_path, \"&job_types=\" + job_types)\n",
    "    \n",
    "if categories != \"\":\n",
    "    url_path = insert_filter(url_path, \"&categories=\" + categories)\n",
    "\n",
    "if remote != \"\":    \n",
    "    url_path = define_remote(url_path)"
   ]
  },
  {
   "cell_type": "markdown",
   "id": "fc86a4cb",
   "metadata": {},
   "source": [
    "# Main"
   ]
  },
  {
   "cell_type": "markdown",
   "id": "a19b940a",
   "metadata": {},
   "source": [
    "## > Scraping url's\n",
    "Mining url's from main site by filtered criteria. "
   ]
  },
  {
   "cell_type": "code",
   "execution_count": null,
   "id": "e2289b75",
   "metadata": {},
   "outputs": [],
   "source": [
    "# A list of websites with job different job descriptions is obtained after filtering.\n",
    "scraped_url_paths = [element['href'] for element in scraping_css_object(url_path, css_object_class)]\n",
    "\n",
    "# Example: Visualization of the complete url\n",
    "#domain_name + scraped_url_paths[0]"
   ]
  },
  {
   "cell_type": "markdown",
   "id": "6b3ea26e",
   "metadata": {},
   "source": [
    "## > Scraping information from each url"
   ]
  },
  {
   "cell_type": "code",
   "execution_count": null,
   "id": "96f9f393",
   "metadata": {},
   "outputs": [],
   "source": [
    "json_list = []\n",
    "\n",
    "for current_path in scraped_url_paths:\n",
    "    try:\n",
    "        # Scraping job title\n",
    "        title = scrape_title(current_path)\n",
    "\n",
    "        # Scraping job description\n",
    "        bodytext = scrape_job_description(current_path)\n",
    "\n",
    "        # Redacting prompt for ChatGPT\n",
    "        text_prompt = chatgpt_prompt(title, bodytext)\n",
    "\n",
    "        # Calling ChatGPT\n",
    "        reply = call_openai_api(text_prompt, tokens = 1000)\n",
    "        reply = reply.replace(\"\\n\", \"\") \n",
    "        #reply = reply.replace(\"'\", \"\\\"\")\n",
    "\n",
    "        json_object = json.loads(reply)\n",
    "\n",
    "        # Collecting JSON objects\n",
    "        json_list.append(json_object)\n",
    "        \n",
    "    except:\n",
    "        continue"
   ]
  },
  {
   "cell_type": "code",
   "execution_count": null,
   "id": "f3564493",
   "metadata": {},
   "outputs": [],
   "source": [
    "current_date = datetime.now()\n",
    "formatted_date = current_date.strftime(\"%y%m%d\")\n",
    "\n",
    "filename = formatted_date + '_' + categories + \"_\" + job_types + \"_\" + \"remote_\" + remote\n",
    "print(filename)"
   ]
  },
  {
   "cell_type": "code",
   "execution_count": null,
   "id": "dc2190b4",
   "metadata": {},
   "outputs": [],
   "source": [
    "# Exporting JSON file\n",
    "with open(filename + '.json', 'w') as f:\n",
    "    json.dump(json_list, f)"
   ]
  },
  {
   "cell_type": "markdown",
   "id": "2130c969",
   "metadata": {},
   "source": [
    "# Transforming JSON file into DataFrame"
   ]
  },
  {
   "cell_type": "code",
   "execution_count": 4,
   "id": "7fdbddec",
   "metadata": {},
   "outputs": [],
   "source": [
    "file_name = \"230608_Data+Scientist_Full+time+role_remote_true.json\"\n",
    "json_file = json.load(open(file_name))"
   ]
  },
  {
   "cell_type": "code",
   "execution_count": null,
   "id": "3e7ba240",
   "metadata": {
    "scrolled": true
   },
   "outputs": [],
   "source": [
    "df = pd.DataFrame(columns=json_file[0].keys())\n",
    "\n",
    "for i in range(len(json_file)):\n",
    "    y = pd.json_normalize(json_file[i])\n",
    "    \n",
    "    # Patch:\n",
    "    y.columns= y.columns.str.lower()\n",
    "\n",
    "    df = pd.concat([df, y], ignore_index=True)\n",
    "\n",
    "print(df.shape)\n",
    "\n",
    "df.to_csv(\"{}.csv\".format(filename), index=False,  sep='~')"
   ]
  },
  {
   "cell_type": "markdown",
   "id": "b546dee6",
   "metadata": {},
   "source": [
    "# Displaying individual JSON objects as HTML"
   ]
  },
  {
   "cell_type": "code",
   "execution_count": 7,
   "id": "77fdf76f",
   "metadata": {},
   "outputs": [
    {
     "data": {
      "text/html": [
       "\n",
       "<div style=\"display: flex; justify-content: center;\">\n",
       "    <style>\n",
       "      table {\n",
       "        width: 60%;\n",
       "        border-collapse: collapse;\n",
       "      }\n",
       "      th, td {\n",
       "        padding: 8px;\n",
       "        border-bottom: 1px solid #ddd;\n",
       "        word-wrap: break-word;\n",
       "      }\n",
       "      th:nth-child(2), td:nth-child(2) {\n",
       "        width: 400px;\n",
       "      }\n",
       "    </style>\n",
       "    <table border=\"1\"><tr><th>job_title</th><td>Content writer</td></tr><tr><th>company_mission</th><td>Solving the #1 challenge faced by organizations working on climate: Hiring.</td></tr><tr><th>company_values</th><td>None</td></tr><tr><th>company_products_or_services</th><td>Climatebase, the world&#x27;s leading platform for climate jobs, talent, and community</td></tr><tr><th>job_responsibilities</th><td>Contribute as a content writer for Climatebase, writing deep dives of companies on Climatebase, interviews with founders of climate organizations, climate technology reports/summaries, weekly climate news summaries, climate op-eds, and other types of content; syndicate content across newsletters channels and twitter account; content will be published on the company&#x27;s blog</td></tr><tr><th>desired_software_skills</th><td>None</td></tr><tr><th>education</th><td>None</td></tr><tr><th>required_job_experience</th><td>None</td></tr><tr><th>equal_employment_opportunity</th><td>None</td></tr><tr><th>salary</th><td>None</td></tr><tr><th>benefits</th><td>None</td></tr><tr><th>location</th><td>None</td></tr><tr><th>type_of_employment</th><td>Full-time, part-time, or very-part-time</td></tr><tr><th>url</th><td>https://climatebase.org/job/45466609/content-writer?source=jobs_directory</td></tr></table>\n",
       "</div>\n"
      ],
      "text/plain": [
       "<IPython.core.display.HTML object>"
      ]
     },
     "metadata": {},
     "output_type": "display_data"
    }
   ],
   "source": [
    "# Convert JSON to HTML\n",
    "#json_object = json_file[0]\n",
    "html_table = json2html.convert(json.dumps(json_object))\n",
    "\n",
    "display_json_as_html = f\"\"\"\n",
    "<div style=\"display: flex; justify-content: center;\">\n",
    "    <style>\n",
    "      table {{\n",
    "        width: 60%;\n",
    "        border-collapse: collapse;\n",
    "      }}\n",
    "      th, td {{\n",
    "        padding: 8px;\n",
    "        border-bottom: 1px solid #ddd;\n",
    "        word-wrap: break-word;\n",
    "      }}\n",
    "      th:nth-child(2), td:nth-child(2) {{\n",
    "        width: 400px;\n",
    "      }}\n",
    "    </style>\n",
    "    {html_table}\n",
    "</div>\n",
    "\"\"\"\n",
    "\n",
    "display(HTML(display_json_as_html))"
   ]
  }
 ],
 "metadata": {
  "kernelspec": {
   "display_name": "Python 3 (ipykernel)",
   "language": "python",
   "name": "python3"
  },
  "language_info": {
   "codemirror_mode": {
    "name": "ipython",
    "version": 3
   },
   "file_extension": ".py",
   "mimetype": "text/x-python",
   "name": "python",
   "nbconvert_exporter": "python",
   "pygments_lexer": "ipython3",
   "version": "3.10.9"
  }
 },
 "nbformat": 4,
 "nbformat_minor": 5
}
